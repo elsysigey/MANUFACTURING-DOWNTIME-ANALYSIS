{
 "cells": [
  {
   "cell_type": "markdown",
   "id": "1ee30c8f-29fc-47a4-b37c-124f8fbc3cd9",
   "metadata": {},
   "source": [
    "# Manufacturing Downtime Analysis\n",
    "\n",
    "This is a project case analysis that aims to analyse the manufacturing efficiency, identify downtime performers and also operators' struggles"
   ]
  },
  {
   "cell_type": "markdown",
   "id": "96bbb24a-d825-4fc5-8009-1b0166f7ffd2",
   "metadata": {},
   "source": [
    "### LOADING AND CREATING A  DB FILE"
   ]
  },
  {
   "cell_type": "code",
   "execution_count": 5,
   "id": "dcaafec2-3edf-4b59-849f-85c07792a7fd",
   "metadata": {},
   "outputs": [
    {
     "name": "stdout",
     "output_type": "stream",
     "text": [
      "dict_keys(['Line productivity', 'Products', 'Downtime factors', 'Line downtime'])\n"
     ]
    }
   ],
   "source": [
    "#import pandas as pd\n",
    "import pandas as pd\n",
    "from sqlalchemy import create_engine\n",
    "\n",
    "# Path to your Excel file\n",
    "excel_file = \"Manufacturing_Line_Productivity.xlsx\"\n",
    "\n",
    "# Read all sheet names into a dictionary of DataFrames\n",
    "sheets_dict = pd.read_excel(excel_file, sheet_name=None)\n",
    "\n",
    "# Check loaded sheet names\n",
    "print(sheets_dict.keys())\n"
   ]
  },
  {
   "cell_type": "code",
   "execution_count": 1,
   "id": "dc20f581-5c7f-4912-9a91-a164898ccb4c",
   "metadata": {},
   "outputs": [
    {
     "data": {
      "text/html": [
       "<div>\n",
       "<style scoped>\n",
       "    .dataframe tbody tr th:only-of-type {\n",
       "        vertical-align: middle;\n",
       "    }\n",
       "\n",
       "    .dataframe tbody tr th {\n",
       "        vertical-align: top;\n",
       "    }\n",
       "\n",
       "    .dataframe thead th {\n",
       "        text-align: right;\n",
       "    }\n",
       "</style>\n",
       "<table border=\"1\" class=\"dataframe\">\n",
       "  <thead>\n",
       "    <tr style=\"text-align: right;\">\n",
       "      <th></th>\n",
       "      <th>Date</th>\n",
       "      <th>Product</th>\n",
       "      <th>Batch</th>\n",
       "      <th>Operator</th>\n",
       "      <th>Start Time</th>\n",
       "      <th>End Time</th>\n",
       "    </tr>\n",
       "  </thead>\n",
       "  <tbody>\n",
       "    <tr>\n",
       "      <th>0</th>\n",
       "      <td>2024-08-29</td>\n",
       "      <td>OR-600</td>\n",
       "      <td>422111</td>\n",
       "      <td>Mac</td>\n",
       "      <td>11:50:00</td>\n",
       "      <td>14:05:00</td>\n",
       "    </tr>\n",
       "    <tr>\n",
       "      <th>1</th>\n",
       "      <td>2024-08-29</td>\n",
       "      <td>LE-600</td>\n",
       "      <td>422112</td>\n",
       "      <td>Mac</td>\n",
       "      <td>14:05:00</td>\n",
       "      <td>15:45:00</td>\n",
       "    </tr>\n",
       "    <tr>\n",
       "      <th>2</th>\n",
       "      <td>2024-08-29</td>\n",
       "      <td>LE-600</td>\n",
       "      <td>422113</td>\n",
       "      <td>Mac</td>\n",
       "      <td>15:45:00</td>\n",
       "      <td>17:35:00</td>\n",
       "    </tr>\n",
       "    <tr>\n",
       "      <th>3</th>\n",
       "      <td>2024-08-29</td>\n",
       "      <td>LE-600</td>\n",
       "      <td>422114</td>\n",
       "      <td>Mac</td>\n",
       "      <td>17:35:00</td>\n",
       "      <td>19:15:00</td>\n",
       "    </tr>\n",
       "    <tr>\n",
       "      <th>4</th>\n",
       "      <td>2024-08-29</td>\n",
       "      <td>LE-600</td>\n",
       "      <td>422115</td>\n",
       "      <td>Charlie</td>\n",
       "      <td>19:15:00</td>\n",
       "      <td>20:39:00</td>\n",
       "    </tr>\n",
       "  </tbody>\n",
       "</table>\n",
       "</div>"
      ],
      "text/plain": [
       "        Date Product   Batch Operator Start Time  End Time\n",
       "0 2024-08-29  OR-600  422111      Mac   11:50:00  14:05:00\n",
       "1 2024-08-29  LE-600  422112      Mac   14:05:00  15:45:00\n",
       "2 2024-08-29  LE-600  422113      Mac   15:45:00  17:35:00\n",
       "3 2024-08-29  LE-600  422114      Mac   17:35:00  19:15:00\n",
       "4 2024-08-29  LE-600  422115  Charlie   19:15:00  20:39:00"
      ]
     },
     "execution_count": 1,
     "metadata": {},
     "output_type": "execute_result"
    }
   ],
   "source": [
    "#Create an SQL db\n",
    "import pandas as pd\n",
    "\n",
    "# Example\n",
    "df = pd.read_excel(\"Manufacturing_Line_Productivity.xlsx\")  \n",
    "\n",
    "# Check the first few rows\n",
    "df.head()\n"
   ]
  },
  {
   "cell_type": "code",
   "execution_count": 3,
   "id": "254cac17-72b1-4a5d-abec-ce0219cdb720",
   "metadata": {},
   "outputs": [
    {
     "name": "stdout",
     "output_type": "stream",
     "text": [
      "The sql extension is already loaded. To reload it, use:\n",
      "  %reload_ext sql\n"
     ]
    }
   ],
   "source": [
    "## next is to load sql_ext\n",
    "%load_ext sql"
   ]
  },
  {
   "cell_type": "code",
   "execution_count": 4,
   "id": "c53afd92-2c22-40c4-9486-0af07e7c7fe1",
   "metadata": {},
   "outputs": [
    {
     "data": {
      "text/plain": [
       "38"
      ]
     },
     "execution_count": 4,
     "metadata": {},
     "output_type": "execute_result"
    }
   ],
   "source": [
    "## Create an in-memory SQLite database and load your data\n",
    "import sqlite3\n",
    "\n",
    "# Create SQLite connection\n",
    "conn = sqlite3.connect(':memory:')\n",
    "\n",
    "# Load pandas DataFrame into SQL\n",
    "df.to_sql('my_table', conn, index=False, if_exists='replace')\n"
   ]
  },
  {
   "cell_type": "markdown",
   "id": "12e77fce-f48c-4307-991d-6d96cd63fd5f",
   "metadata": {},
   "source": [
    "import pandas as pd\n",
    "\n",
    "# Load all sheets\n",
    "xls = pd.ExcelFile(\"Manufacturing_Line_Productivity.xlsx\")\n",
    "sheets = xls.sheet_names\n",
    "print(sheets)\n"
   ]
  },
  {
   "cell_type": "code",
   "execution_count": 7,
   "id": "fb32599c-5a4e-43d0-848a-e6a8d14ae8c4",
   "metadata": {},
   "outputs": [],
   "source": [
    "import sqlite3\n",
    "\n",
    "# Create SQLite database\n",
    "conn = sqlite3.connect(\"manufacturing.db\")\n",
    "\n",
    "# Loop through sheets and save each as table\n",
    "for sheet in sheets:\n",
    "    df = pd.read_excel(\"Manufacturing_Line_Productivity.xlsx\", sheet_name=sheet)\n",
    "    # Replace spaces in sheet names with underscores for SQL safety\n",
    "    table_name = sheet.replace(\" \", \"_\")\n",
    "    df.to_sql(table_name, conn, index=False, if_exists=\"replace\")\n"
   ]
  },
  {
   "cell_type": "markdown",
   "id": "72e8a09f-29bc-4e99-87dd-5994113f307c",
   "metadata": {},
   "source": [
    "### Connect with SQL magic in Jupyter"
   ]
  },
  {
   "cell_type": "code",
   "execution_count": 1,
   "id": "f5ed4c48-10a7-4a3f-a0a3-f9777cf686ab",
   "metadata": {},
   "outputs": [
    {
     "data": {
      "text/plain": [
       "'Connected: @manufacturing.db'"
      ]
     },
     "execution_count": 1,
     "metadata": {},
     "output_type": "execute_result"
    }
   ],
   "source": [
    "%load_ext sql\n",
    "%sql sqlite:///manufacturing.db"
   ]
  },
  {
   "cell_type": "markdown",
   "id": "7f9e6b18-7a30-4af8-a33c-ae6f45e3377d",
   "metadata": {},
   "source": [
    "to clarify the names of the tables"
   ]
  },
  {
   "cell_type": "code",
   "execution_count": 30,
   "id": "bb3a640c-2d47-4875-a00e-ac4c7094c21e",
   "metadata": {},
   "outputs": [
    {
     "name": "stdout",
     "output_type": "stream",
     "text": [
      " * sqlite:///manufacturing.db\n",
      "Done.\n"
     ]
    },
    {
     "data": {
      "text/html": [
       "<table>\n",
       "    <thead>\n",
       "        <tr>\n",
       "            <th>name</th>\n",
       "        </tr>\n",
       "    </thead>\n",
       "    <tbody>\n",
       "        <tr>\n",
       "            <td>Line_productivity</td>\n",
       "        </tr>\n",
       "        <tr>\n",
       "            <td>Products</td>\n",
       "        </tr>\n",
       "        <tr>\n",
       "            <td>Downtime_factors</td>\n",
       "        </tr>\n",
       "        <tr>\n",
       "            <td>Line_downtime</td>\n",
       "        </tr>\n",
       "    </tbody>\n",
       "</table>"
      ],
      "text/plain": [
       "[('Line_productivity',),\n",
       " ('Products',),\n",
       " ('Downtime_factors',),\n",
       " ('Line_downtime',)]"
      ]
     },
     "execution_count": 30,
     "metadata": {},
     "output_type": "execute_result"
    }
   ],
   "source": [
    "%%sql\n",
    "SELECT name \n",
    "FROM sqlite_master \n",
    "WHERE type='table';\n"
   ]
  },
  {
   "cell_type": "markdown",
   "id": "c3ce9bd7-55f7-4f48-b1a0-c57b8d0c8686",
   "metadata": {},
   "source": [
    "to get an overview of the manufactring. line_productivity table"
   ]
  },
  {
   "cell_type": "code",
   "execution_count": 11,
   "id": "152373dd-4982-436b-9119-69d140fd8230",
   "metadata": {},
   "outputs": [
    {
     "name": "stdout",
     "output_type": "stream",
     "text": [
      " * sqlite:///manufacturing.db\n",
      "Done.\n"
     ]
    },
    {
     "data": {
      "text/html": [
       "<table>\n",
       "    <thead>\n",
       "        <tr>\n",
       "            <th>Date</th>\n",
       "            <th>Product</th>\n",
       "            <th>Batch</th>\n",
       "            <th>Operator</th>\n",
       "            <th>Start Time</th>\n",
       "            <th>End Time</th>\n",
       "        </tr>\n",
       "    </thead>\n",
       "    <tbody>\n",
       "        <tr>\n",
       "            <td>2024-08-29 00:00:00</td>\n",
       "            <td>OR-600</td>\n",
       "            <td>422111</td>\n",
       "            <td>Mac</td>\n",
       "            <td>11:50:00.000000</td>\n",
       "            <td>14:05:00.000000</td>\n",
       "        </tr>\n",
       "        <tr>\n",
       "            <td>2024-08-29 00:00:00</td>\n",
       "            <td>LE-600</td>\n",
       "            <td>422112</td>\n",
       "            <td>Mac</td>\n",
       "            <td>14:05:00.000000</td>\n",
       "            <td>15:45:00.000000</td>\n",
       "        </tr>\n",
       "        <tr>\n",
       "            <td>2024-08-29 00:00:00</td>\n",
       "            <td>LE-600</td>\n",
       "            <td>422113</td>\n",
       "            <td>Mac</td>\n",
       "            <td>15:45:00.000000</td>\n",
       "            <td>17:35:00.000000</td>\n",
       "        </tr>\n",
       "        <tr>\n",
       "            <td>2024-08-29 00:00:00</td>\n",
       "            <td>LE-600</td>\n",
       "            <td>422114</td>\n",
       "            <td>Mac</td>\n",
       "            <td>17:35:00.000000</td>\n",
       "            <td>19:15:00.000000</td>\n",
       "        </tr>\n",
       "        <tr>\n",
       "            <td>2024-08-29 00:00:00</td>\n",
       "            <td>LE-600</td>\n",
       "            <td>422115</td>\n",
       "            <td>Charlie</td>\n",
       "            <td>19:15:00.000000</td>\n",
       "            <td>20:39:00.000000</td>\n",
       "        </tr>\n",
       "    </tbody>\n",
       "</table>"
      ],
      "text/plain": [
       "[('2024-08-29 00:00:00', 'OR-600', 422111, 'Mac', '11:50:00.000000', '14:05:00.000000'),\n",
       " ('2024-08-29 00:00:00', 'LE-600', 422112, 'Mac', '14:05:00.000000', '15:45:00.000000'),\n",
       " ('2024-08-29 00:00:00', 'LE-600', 422113, 'Mac', '15:45:00.000000', '17:35:00.000000'),\n",
       " ('2024-08-29 00:00:00', 'LE-600', 422114, 'Mac', '17:35:00.000000', '19:15:00.000000'),\n",
       " ('2024-08-29 00:00:00', 'LE-600', 422115, 'Charlie', '19:15:00.000000', '20:39:00.000000')]"
      ]
     },
     "execution_count": 11,
     "metadata": {},
     "output_type": "execute_result"
    }
   ],
   "source": [
    "%%sql\n",
    "select\n",
    "  *\n",
    "from line_productivity\n",
    "limit 5;"
   ]
  },
  {
   "cell_type": "code",
   "execution_count": 3,
   "id": "8895606a-319d-47e6-913e-02db34b7b733",
   "metadata": {},
   "outputs": [
    {
     "data": {
      "text/plain": [
       "'Connected: @manufacturing.db'"
      ]
     },
     "execution_count": 3,
     "metadata": {},
     "output_type": "execute_result"
    }
   ],
   "source": [
    "%load_ext sql\n",
    "%sql sqlite:///manufacturing.db"
   ]
  },
  {
   "cell_type": "markdown",
   "id": "23a3b3a7-ced2-49b8-884a-7abfda9020ac",
   "metadata": {},
   "source": [
    "#### EFFECIENCY ANALYSIS"
   ]
  },
  {
   "cell_type": "markdown",
   "id": "ba9de0a6-424a-4666-98b9-10b1b67ad4b3",
   "metadata": {},
   "source": [
    "We need to calculate the line of efficiency by\n",
    "1. Determining the actual time taken in each batch\n",
    "2. The planned time of each batch\n",
    "3. the line efficiency result(planned time /actual time"
   ]
  },
  {
   "cell_type": "code",
   "execution_count": 29,
   "id": "c34e29dc-06d7-475a-9191-7b09761488e6",
   "metadata": {
    "scrolled": true
   },
   "outputs": [
    {
     "name": "stdout",
     "output_type": "stream",
     "text": [
      " * sqlite:///manufacturing.db\n",
      "Done.\n"
     ]
    },
    {
     "data": {
      "text/html": [
       "<table>\n",
       "    <thead>\n",
       "        <tr>\n",
       "            <th>Start Time</th>\n",
       "            <th>End Time</th>\n",
       "            <th>actual_time_taken</th>\n",
       "            <th>planned_time</th>\n",
       "            <th>line_efficiency_percentage</th>\n",
       "        </tr>\n",
       "    </thead>\n",
       "    <tbody>\n",
       "        <tr>\n",
       "            <td>11:50:00.000000</td>\n",
       "            <td>14:05:00.000000</td>\n",
       "            <td>135.0</td>\n",
       "            <td>60</td>\n",
       "            <td>44.44</td>\n",
       "        </tr>\n",
       "        <tr>\n",
       "            <td>14:05:00.000000</td>\n",
       "            <td>15:45:00.000000</td>\n",
       "            <td>100.0</td>\n",
       "            <td>60</td>\n",
       "            <td>60.0</td>\n",
       "        </tr>\n",
       "        <tr>\n",
       "            <td>15:45:00.000000</td>\n",
       "            <td>17:35:00.000000</td>\n",
       "            <td>110.0</td>\n",
       "            <td>60</td>\n",
       "            <td>54.55</td>\n",
       "        </tr>\n",
       "        <tr>\n",
       "            <td>17:35:00.000000</td>\n",
       "            <td>19:15:00.000000</td>\n",
       "            <td>100.0</td>\n",
       "            <td>60</td>\n",
       "            <td>60.0</td>\n",
       "        </tr>\n",
       "        <tr>\n",
       "            <td>19:15:00.000000</td>\n",
       "            <td>20:39:00.000000</td>\n",
       "            <td>84.0</td>\n",
       "            <td>60</td>\n",
       "            <td>71.43</td>\n",
       "        </tr>\n",
       "        <tr>\n",
       "            <td>20:39:00.000000</td>\n",
       "            <td>21:39:00.000000</td>\n",
       "            <td>60.0</td>\n",
       "            <td>60</td>\n",
       "            <td>100.0</td>\n",
       "        </tr>\n",
       "        <tr>\n",
       "            <td>21:39:00.000000</td>\n",
       "            <td>22:54:00.000000</td>\n",
       "            <td>75.0</td>\n",
       "            <td>60</td>\n",
       "            <td>80.0</td>\n",
       "        </tr>\n",
       "        <tr>\n",
       "            <td>04:05:00.000000</td>\n",
       "            <td>06:05:00.000000</td>\n",
       "            <td>120.0</td>\n",
       "            <td>60</td>\n",
       "            <td>50.0</td>\n",
       "        </tr>\n",
       "        <tr>\n",
       "            <td>06:05:00.000000</td>\n",
       "            <td>07:30:00.000000</td>\n",
       "            <td>85.0</td>\n",
       "            <td>60</td>\n",
       "            <td>70.59</td>\n",
       "        </tr>\n",
       "        <tr>\n",
       "            <td>07:30:00.000000</td>\n",
       "            <td>09:22:00.000000</td>\n",
       "            <td>112.0</td>\n",
       "            <td>60</td>\n",
       "            <td>53.57</td>\n",
       "        </tr>\n",
       "        <tr>\n",
       "            <td>09:22:00.000000</td>\n",
       "            <td>10:37:00.000000</td>\n",
       "            <td>75.0</td>\n",
       "            <td>60</td>\n",
       "            <td>80.0</td>\n",
       "        </tr>\n",
       "        <tr>\n",
       "            <td>10:37:00.000000</td>\n",
       "            <td>12:02:00.000000</td>\n",
       "            <td>85.0</td>\n",
       "            <td>60</td>\n",
       "            <td>70.59</td>\n",
       "        </tr>\n",
       "        <tr>\n",
       "            <td>12:02:00.000000</td>\n",
       "            <td>14:15:00.000000</td>\n",
       "            <td>133.0</td>\n",
       "            <td>60</td>\n",
       "            <td>45.11</td>\n",
       "        </tr>\n",
       "        <tr>\n",
       "            <td>14:15:00.000000</td>\n",
       "            <td>15:55:00.000000</td>\n",
       "            <td>100.0</td>\n",
       "            <td>60</td>\n",
       "            <td>60.0</td>\n",
       "        </tr>\n",
       "        <tr>\n",
       "            <td>15:55:00.000000</td>\n",
       "            <td>17:15:00.000000</td>\n",
       "            <td>80.0</td>\n",
       "            <td>60</td>\n",
       "            <td>75.0</td>\n",
       "        </tr>\n",
       "        <tr>\n",
       "            <td>17:15:00.000000</td>\n",
       "            <td>18:59:00.000000</td>\n",
       "            <td>104.0</td>\n",
       "            <td>60</td>\n",
       "            <td>57.69</td>\n",
       "        </tr>\n",
       "        <tr>\n",
       "            <td>18:59:00.000000</td>\n",
       "            <td>20:22:00.000000</td>\n",
       "            <td>83.0</td>\n",
       "            <td>60</td>\n",
       "            <td>72.29</td>\n",
       "        </tr>\n",
       "        <tr>\n",
       "            <td>20:22:00.000000</td>\n",
       "            <td>22:14:00.000000</td>\n",
       "            <td>112.0</td>\n",
       "            <td>60</td>\n",
       "            <td>53.57</td>\n",
       "        </tr>\n",
       "        <tr>\n",
       "            <td>22:14:00.000000</td>\n",
       "            <td>23:29:00.000000</td>\n",
       "            <td>75.0</td>\n",
       "            <td>60</td>\n",
       "            <td>80.0</td>\n",
       "        </tr>\n",
       "        <tr>\n",
       "            <td>07:45:00.000000</td>\n",
       "            <td>09:05:00.000000</td>\n",
       "            <td>80.0</td>\n",
       "            <td>60</td>\n",
       "            <td>75.0</td>\n",
       "        </tr>\n",
       "        <tr>\n",
       "            <td>09:05:00.000000</td>\n",
       "            <td>10:35:00.000000</td>\n",
       "            <td>90.0</td>\n",
       "            <td>60</td>\n",
       "            <td>66.67</td>\n",
       "        </tr>\n",
       "        <tr>\n",
       "            <td>10:35:00.000000</td>\n",
       "            <td>11:35:00.000000</td>\n",
       "            <td>60.0</td>\n",
       "            <td>60</td>\n",
       "            <td>100.0</td>\n",
       "        </tr>\n",
       "        <tr>\n",
       "            <td>11:35:00.000000</td>\n",
       "            <td>12:55:00.000000</td>\n",
       "            <td>80.0</td>\n",
       "            <td>60</td>\n",
       "            <td>75.0</td>\n",
       "        </tr>\n",
       "        <tr>\n",
       "            <td>12:55:00.000000</td>\n",
       "            <td>14:45:00.000000</td>\n",
       "            <td>110.0</td>\n",
       "            <td>60</td>\n",
       "            <td>54.55</td>\n",
       "        </tr>\n",
       "        <tr>\n",
       "            <td>14:45:00.000000</td>\n",
       "            <td>16:30:00.000000</td>\n",
       "            <td>105.0</td>\n",
       "            <td>60</td>\n",
       "            <td>57.14</td>\n",
       "        </tr>\n",
       "        <tr>\n",
       "            <td>16:30:00.000000</td>\n",
       "            <td>17:30:00.000000</td>\n",
       "            <td>60.0</td>\n",
       "            <td>60</td>\n",
       "            <td>100.0</td>\n",
       "        </tr>\n",
       "        <tr>\n",
       "            <td>01:00:00.000000</td>\n",
       "            <td>02:45:00.000000</td>\n",
       "            <td>105.0</td>\n",
       "            <td>60</td>\n",
       "            <td>57.14</td>\n",
       "        </tr>\n",
       "        <tr>\n",
       "            <td>02:45:00.000000</td>\n",
       "            <td>04:05:00.000000</td>\n",
       "            <td>80.0</td>\n",
       "            <td>60</td>\n",
       "            <td>75.0</td>\n",
       "        </tr>\n",
       "        <tr>\n",
       "            <td>04:05:00.000000</td>\n",
       "            <td>05:40:00.000000</td>\n",
       "            <td>95.0</td>\n",
       "            <td>60</td>\n",
       "            <td>63.16</td>\n",
       "        </tr>\n",
       "        <tr>\n",
       "            <td>05:40:00.000000</td>\n",
       "            <td>07:43:00.000000</td>\n",
       "            <td>123.0</td>\n",
       "            <td>60</td>\n",
       "            <td>48.78</td>\n",
       "        </tr>\n",
       "        <tr>\n",
       "            <td>07:43:00.000000</td>\n",
       "            <td>08:50:00.000000</td>\n",
       "            <td>67.0</td>\n",
       "            <td>60</td>\n",
       "            <td>89.55</td>\n",
       "        </tr>\n",
       "        <tr>\n",
       "            <td>08:50:00.000000</td>\n",
       "            <td>10:20:00.000000</td>\n",
       "            <td>90.0</td>\n",
       "            <td>60</td>\n",
       "            <td>66.67</td>\n",
       "        </tr>\n",
       "        <tr>\n",
       "            <td>10:20:00.000000</td>\n",
       "            <td>12:18:00.000000</td>\n",
       "            <td>118.0</td>\n",
       "            <td>60</td>\n",
       "            <td>50.85</td>\n",
       "        </tr>\n",
       "        <tr>\n",
       "            <td>12:18:00.000000</td>\n",
       "            <td>14:50:00.000000</td>\n",
       "            <td>152.0</td>\n",
       "            <td>98</td>\n",
       "            <td>64.47</td>\n",
       "        </tr>\n",
       "        <tr>\n",
       "            <td>14:50:00.000000</td>\n",
       "            <td>16:50:00.000000</td>\n",
       "            <td>120.0</td>\n",
       "            <td>98</td>\n",
       "            <td>81.67</td>\n",
       "        </tr>\n",
       "        <tr>\n",
       "            <td>16:50:00.000000</td>\n",
       "            <td>19:30:00.000000</td>\n",
       "            <td>160.0</td>\n",
       "            <td>98</td>\n",
       "            <td>61.25</td>\n",
       "        </tr>\n",
       "        <tr>\n",
       "            <td>19:30:00.000000</td>\n",
       "            <td>22:55:00.000000</td>\n",
       "            <td>205.0</td>\n",
       "            <td>98</td>\n",
       "            <td>47.8</td>\n",
       "        </tr>\n",
       "        <tr>\n",
       "            <td>22:55:00.000000</td>\n",
       "            <td>01:05:00.000000</td>\n",
       "            <td>130.0</td>\n",
       "            <td>98</td>\n",
       "            <td>75.38</td>\n",
       "        </tr>\n",
       "    </tbody>\n",
       "</table>"
      ],
      "text/plain": [
       "[('11:50:00.000000', '14:05:00.000000', 135.0, 60, 44.44),\n",
       " ('14:05:00.000000', '15:45:00.000000', 100.0, 60, 60.0),\n",
       " ('15:45:00.000000', '17:35:00.000000', 110.0, 60, 54.55),\n",
       " ('17:35:00.000000', '19:15:00.000000', 100.0, 60, 60.0),\n",
       " ('19:15:00.000000', '20:39:00.000000', 84.0, 60, 71.43),\n",
       " ('20:39:00.000000', '21:39:00.000000', 60.0, 60, 100.0),\n",
       " ('21:39:00.000000', '22:54:00.000000', 75.0, 60, 80.0),\n",
       " ('04:05:00.000000', '06:05:00.000000', 120.0, 60, 50.0),\n",
       " ('06:05:00.000000', '07:30:00.000000', 85.0, 60, 70.59),\n",
       " ('07:30:00.000000', '09:22:00.000000', 112.0, 60, 53.57),\n",
       " ('09:22:00.000000', '10:37:00.000000', 75.0, 60, 80.0),\n",
       " ('10:37:00.000000', '12:02:00.000000', 85.0, 60, 70.59),\n",
       " ('12:02:00.000000', '14:15:00.000000', 133.0, 60, 45.11),\n",
       " ('14:15:00.000000', '15:55:00.000000', 100.0, 60, 60.0),\n",
       " ('15:55:00.000000', '17:15:00.000000', 80.0, 60, 75.0),\n",
       " ('17:15:00.000000', '18:59:00.000000', 104.0, 60, 57.69),\n",
       " ('18:59:00.000000', '20:22:00.000000', 83.0, 60, 72.29),\n",
       " ('20:22:00.000000', '22:14:00.000000', 112.0, 60, 53.57),\n",
       " ('22:14:00.000000', '23:29:00.000000', 75.0, 60, 80.0),\n",
       " ('07:45:00.000000', '09:05:00.000000', 80.0, 60, 75.0),\n",
       " ('09:05:00.000000', '10:35:00.000000', 90.0, 60, 66.67),\n",
       " ('10:35:00.000000', '11:35:00.000000', 60.0, 60, 100.0),\n",
       " ('11:35:00.000000', '12:55:00.000000', 80.0, 60, 75.0),\n",
       " ('12:55:00.000000', '14:45:00.000000', 110.0, 60, 54.55),\n",
       " ('14:45:00.000000', '16:30:00.000000', 105.0, 60, 57.14),\n",
       " ('16:30:00.000000', '17:30:00.000000', 60.0, 60, 100.0),\n",
       " ('01:00:00.000000', '02:45:00.000000', 105.0, 60, 57.14),\n",
       " ('02:45:00.000000', '04:05:00.000000', 80.0, 60, 75.0),\n",
       " ('04:05:00.000000', '05:40:00.000000', 95.0, 60, 63.16),\n",
       " ('05:40:00.000000', '07:43:00.000000', 123.0, 60, 48.78),\n",
       " ('07:43:00.000000', '08:50:00.000000', 67.0, 60, 89.55),\n",
       " ('08:50:00.000000', '10:20:00.000000', 90.0, 60, 66.67),\n",
       " ('10:20:00.000000', '12:18:00.000000', 118.0, 60, 50.85),\n",
       " ('12:18:00.000000', '14:50:00.000000', 152.0, 98, 64.47),\n",
       " ('14:50:00.000000', '16:50:00.000000', 120.0, 98, 81.67),\n",
       " ('16:50:00.000000', '19:30:00.000000', 160.0, 98, 61.25),\n",
       " ('19:30:00.000000', '22:55:00.000000', 205.0, 98, 47.8),\n",
       " ('22:55:00.000000', '01:05:00.000000', 130.0, 98, 75.38)]"
      ]
     },
     "execution_count": 29,
     "metadata": {},
     "output_type": "execute_result"
    }
   ],
   "source": [
    "%%sql\n",
    "SELECT\n",
    "    lp.\"Start Time\",\n",
    "    lp.\"End Time\",\n",
    "    ROUND(\n",
    "        (\n",
    "            (CASE \n",
    "                WHEN strftime('%s', lp.\"End Time\") < strftime('%s', lp.\"Start Time\")\n",
    "                THEN strftime('%s', lp.\"End Time\") + 24*60*60\n",
    "                ELSE strftime('%s', lp.\"End Time\")\n",
    "            END) \n",
    "            - strftime('%s', lp.\"Start Time\")\n",
    "        ) / 60.0,\n",
    "        2\n",
    "    ) AS actual_time_taken,\n",
    "    p.\"Min batch time\" AS planned_time,\n",
    "    ROUND(\n",
    "        (\n",
    "            p.\"Min batch time\" /\n",
    "            (\n",
    "                (\n",
    "                    (CASE \n",
    "                        WHEN strftime('%s', lp.\"End Time\") < strftime('%s', lp.\"Start Time\")\n",
    "                        THEN strftime('%s', lp.\"End Time\") + 24*60*60\n",
    "                        ELSE strftime('%s', lp.\"End Time\")\n",
    "                    END)\n",
    "                    - strftime('%s', lp.\"Start Time\")\n",
    "                ) / 60.0\n",
    "            )\n",
    "        ) * 100,\n",
    "        2\n",
    "    ) AS line_efficiency_percentage\n",
    "FROM line_productivity lp\n",
    "JOIN products p\n",
    "    ON lp.\"Product\" = p.\"Product\";\n"
   ]
  },
  {
   "cell_type": "markdown",
   "id": "d9d9e109-6e57-4b91-aa2d-f2bd724231cd",
   "metadata": {},
   "source": [
    "next is to find the median and mean. In a general case of percentage, normally the median would be 50% however, this is not a general case \n",
    "as the line efficiency cannot be 0.therefore we need to find the median and mode"
   ]
  },
  {
   "cell_type": "code",
   "execution_count": 36,
   "id": "194b5a63-b801-4e0c-a225-97cd7d19eb5c",
   "metadata": {},
   "outputs": [
    {
     "name": "stdout",
     "output_type": "stream",
     "text": [
      " * sqlite:///manufacturing.db\n",
      "Done.\n"
     ]
    },
    {
     "data": {
      "text/html": [
       "<table>\n",
       "    <thead>\n",
       "        <tr>\n",
       "            <th>median</th>\n",
       "        </tr>\n",
       "    </thead>\n",
       "    <tbody>\n",
       "        <tr>\n",
       "            <td>63.815</td>\n",
       "        </tr>\n",
       "    </tbody>\n",
       "</table>"
      ],
      "text/plain": [
       "[(63.815,)]"
      ]
     },
     "execution_count": 36,
     "metadata": {},
     "output_type": "execute_result"
    }
   ],
   "source": [
    "%%sql\n",
    "WITH efficiency AS (\n",
    "    SELECT\n",
    "        lp.\"Start Time\",\n",
    "        lp.\"End Time\",\n",
    "        ROUND(\n",
    "            (strftime('%s', lp.\"End Time\") - strftime('%s', lp.\"Start Time\")) / 60.0,\n",
    "            2\n",
    "        ) AS actual_time_taken,\n",
    "        p.\"Min batch time\" AS planned_time,\n",
    "        ROUND(\n",
    "            (p.\"Min batch time\" / ((strftime('%s', lp.\"End Time\") - strftime('%s', lp.\"Start Time\")) / 60.0)) * 100,\n",
    "            2\n",
    "        ) AS line_efficiency_percentage\n",
    "    FROM line_productivity lp\n",
    "    JOIN products p\n",
    "        ON lp.\"Product\" = p.\"Product\"\n",
    "),\n",
    "ordered AS (\n",
    "    SELECT \n",
    "        line_efficiency_percentage,\n",
    "        ROW_NUMBER() OVER (ORDER BY line_efficiency_percentage) AS rn,\n",
    "        COUNT(*) OVER () AS total_rows\n",
    "    FROM efficiency\n",
    "),\n",
    "median_candidates AS (\n",
    "    SELECT line_efficiency_percentage\n",
    "    FROM ordered\n",
    "    WHERE rn IN ( (total_rows + 1) / 2, (total_rows + 2) / 2 )\n",
    ")\n",
    "SELECT AVG(line_efficiency_percentage) AS median\n",
    "FROM median_candidates;\n"
   ]
  },
  {
   "cell_type": "markdown",
   "id": "c0b23ee8-2931-4887-a17a-b9e85372bbf4",
   "metadata": {},
   "source": [
    "now lets find the mean\n"
   ]
  },
  {
   "cell_type": "code",
   "execution_count": 40,
   "id": "e68d5a19-49c8-41b9-90a5-933aeeca6f80",
   "metadata": {},
   "outputs": [
    {
     "name": "stdout",
     "output_type": "stream",
     "text": [
      " * sqlite:///manufacturing.db\n",
      "Done.\n"
     ]
    },
    {
     "data": {
      "text/html": [
       "<table>\n",
       "    <thead>\n",
       "        <tr>\n",
       "            <th>mean_efficiency</th>\n",
       "        </tr>\n",
       "    </thead>\n",
       "    <tbody>\n",
       "        <tr>\n",
       "            <td>64.9</td>\n",
       "        </tr>\n",
       "    </tbody>\n",
       "</table>"
      ],
      "text/plain": [
       "[(64.9,)]"
      ]
     },
     "execution_count": 40,
     "metadata": {},
     "output_type": "execute_result"
    }
   ],
   "source": [
    "%%sql\n",
    "WITH efficiency AS (\n",
    "    SELECT\n",
    "        ROUND(\n",
    "            (p.\"Min batch time\" / ((strftime('%s', lp.\"End Time\") - strftime('%s', lp.\"Start Time\")) / 60.0)) * 100,\n",
    "            2\n",
    "        ) AS line_efficiency_percentage\n",
    "    FROM line_productivity lp\n",
    "    JOIN products p\n",
    "        ON lp.\"Product\" = p.\"Product\"\n",
    ")\n",
    "SELECT ROUND(AVG(line_efficiency_percentage),2) AS mean_efficiency\n",
    "FROM efficiency;\n",
    "\n",
    "\n"
   ]
  },
  {
   "cell_type": "markdown",
   "id": "4278f42f-84aa-4c54-85fa-69075b0615b2",
   "metadata": {},
   "source": [
    "The mean is different from the median, meaning that the results are slightly positive skewed.Most production line work are working around 63% however some outliers are pushing the mean upward"
   ]
  },
  {
   "cell_type": "markdown",
   "id": "19abb9d4-8a59-4c0a-b053-8804b73a01bd",
   "metadata": {},
   "source": [
    "now i want to see each product efficiency average"
   ]
  },
  {
   "cell_type": "code",
   "execution_count": 2,
   "id": "a60e447e-e51c-47b3-a051-f8dedafe858d",
   "metadata": {},
   "outputs": [
    {
     "data": {
      "text/plain": [
       "'Connected: @manufacturing.db'"
      ]
     },
     "execution_count": 2,
     "metadata": {},
     "output_type": "execute_result"
    }
   ],
   "source": [
    "%load_ext sql\n",
    "%sql sqlite:///manufacturing.db"
   ]
  },
  {
   "cell_type": "code",
   "execution_count": 10,
   "id": "878c4047-6d09-421a-b747-8a3c17f40064",
   "metadata": {},
   "outputs": [
    {
     "name": "stdout",
     "output_type": "stream",
     "text": [
      " * sqlite:///manufacturing.db\n",
      "Done.\n"
     ]
    },
    {
     "data": {
      "text/html": [
       "<table>\n",
       "    <thead>\n",
       "        <tr>\n",
       "            <th>Product</th>\n",
       "            <th>Flavor</th>\n",
       "            <th>product_count</th>\n",
       "            <th>median_efficiency</th>\n",
       "            <th>avg_efficiency</th>\n",
       "            <th>min_efficiency</th>\n",
       "            <th>max_efficiency</th>\n",
       "        </tr>\n",
       "    </thead>\n",
       "    <tbody>\n",
       "        <tr>\n",
       "            <td>CO-2L</td>\n",
       "            <td>Cola</td>\n",
       "            <td>5</td>\n",
       "            <td>64.47</td>\n",
       "            <td>66.11</td>\n",
       "            <td>47.8</td>\n",
       "            <td>81.67</td>\n",
       "        </tr>\n",
       "        <tr>\n",
       "            <td>CO-600</td>\n",
       "            <td>Cola</td>\n",
       "            <td>15</td>\n",
       "            <td>70.59</td>\n",
       "            <td>67.34</td>\n",
       "            <td>45.11</td>\n",
       "            <td>100.0</td>\n",
       "        </tr>\n",
       "        <tr>\n",
       "            <td>DC-600</td>\n",
       "            <td>Diet Cola</td>\n",
       "            <td>4</td>\n",
       "            <td>66.07</td>\n",
       "            <td>71.67</td>\n",
       "            <td>54.55</td>\n",
       "            <td>100.0</td>\n",
       "        </tr>\n",
       "        <tr>\n",
       "            <td>LE-600</td>\n",
       "            <td>Lemon lime</td>\n",
       "            <td>6</td>\n",
       "            <td>65.72</td>\n",
       "            <td>71.0</td>\n",
       "            <td>54.55</td>\n",
       "            <td>100.0</td>\n",
       "        </tr>\n",
       "        <tr>\n",
       "            <td>OR-600</td>\n",
       "            <td>Orange</td>\n",
       "            <td>1</td>\n",
       "            <td>44.44</td>\n",
       "            <td>44.44</td>\n",
       "            <td>44.44</td>\n",
       "            <td>44.44</td>\n",
       "        </tr>\n",
       "        <tr>\n",
       "            <td>RB-600</td>\n",
       "            <td>Root Beer</td>\n",
       "            <td>7</td>\n",
       "            <td>63.16</td>\n",
       "            <td>64.45</td>\n",
       "            <td>48.78</td>\n",
       "            <td>89.55</td>\n",
       "        </tr>\n",
       "    </tbody>\n",
       "</table>"
      ],
      "text/plain": [
       "[('CO-2L', 'Cola', 5, 64.47, 66.11, 47.8, 81.67),\n",
       " ('CO-600', 'Cola', 15, 70.59, 67.34, 45.11, 100.0),\n",
       " ('DC-600', 'Diet Cola', 4, 66.07, 71.67, 54.55, 100.0),\n",
       " ('LE-600', 'Lemon lime', 6, 65.72, 71.0, 54.55, 100.0),\n",
       " ('OR-600', 'Orange', 1, 44.44, 44.44, 44.44, 44.44),\n",
       " ('RB-600', 'Root Beer', 7, 63.16, 64.45, 48.78, 89.55)]"
      ]
     },
     "execution_count": 10,
     "metadata": {},
     "output_type": "execute_result"
    }
   ],
   "source": [
    "%%sql\n",
    "WITH batch_efficiency AS (\n",
    "    SELECT\n",
    "        lp.\"Product\",\n",
    "        p.Flavor,\n",
    "        ROUND(\n",
    "            (\n",
    "                p.\"Min batch time\" /\n",
    "                (\n",
    "                    (\n",
    "                        (CASE \n",
    "                            WHEN strftime('%s', lp.\"End Time\") < strftime('%s', lp.\"Start Time\")\n",
    "                            THEN strftime('%s', lp.\"End Time\") + 24*60*60\n",
    "                            ELSE strftime('%s', lp.\"End Time\")\n",
    "                        END)\n",
    "                        - strftime('%s', lp.\"Start Time\")\n",
    "                    ) / 60.0\n",
    "                )\n",
    "            ) * 100,\n",
    "            2\n",
    "        ) AS line_efficiency_percentage\n",
    "    FROM line_productivity lp\n",
    "    JOIN products p\n",
    "        ON lp.\"Product\" = p.\"Product\"\n",
    "),\n",
    "ranked AS (\n",
    "    SELECT\n",
    "        Product,\n",
    "        Flavor,\n",
    "        line_efficiency_percentage,\n",
    "        ROW_NUMBER() OVER (PARTITION BY Product ORDER BY line_efficiency_percentage) AS rn,\n",
    "        COUNT(*) OVER (PARTITION BY Product) AS cnt\n",
    "    FROM batch_efficiency\n",
    "),\n",
    "median_calc AS (\n",
    "    SELECT\n",
    "        Product,\n",
    "        Flavor,\n",
    "        ROUND(AVG(line_efficiency_percentage),2) AS median_efficiency\n",
    "    FROM ranked\n",
    "    WHERE rn IN (\n",
    "        (cnt + 1) / 2,\n",
    "        (cnt + 2) / 2\n",
    "    )\n",
    "    GROUP BY Product, Flavor\n",
    "),\n",
    "summary AS (\n",
    "    SELECT\n",
    "        Product,\n",
    "        Flavor,\n",
    "        COUNT(*) AS product_count,\n",
    "        ROUND(AVG(line_efficiency_percentage),2) AS avg_efficiency,\n",
    "        ROUND(MIN(line_efficiency_percentage),2) AS min_efficiency,\n",
    "        ROUND(MAX(line_efficiency_percentage),2) AS max_efficiency\n",
    "    FROM batch_efficiency\n",
    "    GROUP BY Product, Flavor\n",
    ")\n",
    "SELECT\n",
    "    s.Product,\n",
    "    s.Flavor,\n",
    "    s.product_count,\n",
    "    m.median_efficiency,\n",
    "    s.avg_efficiency,\n",
    "    s.min_efficiency,\n",
    "    s.max_efficiency\n",
    "FROM summary s\n",
    "JOIN median_calc m\n",
    "    ON s.Product = m.Product AND s.Flavor = m.Flavor\n",
    "ORDER BY s.Product;\n"
   ]
  },
  {
   "cell_type": "markdown",
   "id": "7b38e110-936c-454a-b18f-5170b7ab4a04",
   "metadata": {},
   "source": [
    "Most of the product categories fall within the median efficiency line 63.815. However, the data shows instances of time overrun which are the norm within\n",
    "manufacturing. The CO-600, DC-600 AND LE-600 have shown that the planned time can be hit, but only on occasion.\n",
    "out of 6 product lines, only 4 have attained the 63.815 efficiency.\n",
    "\n",
    "the Product OR-600 is at 44.44% efficiency, which is way below the efficiency median. In the calculation of time overrun, it results in 125% which is critical. "
   ]
  },
  {
   "cell_type": "markdown",
   "id": "8fc56af6-aa23-45d1-b753-d7b397070f6d",
   "metadata": {},
   "source": [
    "#### OPERATOR ANALYSIS"
   ]
  },
  {
   "cell_type": "markdown",
   "id": "4123f161-ecb9-4756-b624-b12198a8dbd9",
   "metadata": {},
   "source": [
    "Lets analyse the operators performance in terms of batch completed,time taken for completion,their line efficiency,operator error ,error rate,\n",
    "batches per hour"
   ]
  },
  {
   "cell_type": "code",
   "execution_count": 2,
   "id": "c91e247d-4b20-4261-a322-444d76a83c4b",
   "metadata": {},
   "outputs": [
    {
     "data": {
      "text/plain": [
       "'Connected: @manufacturing.db'"
      ]
     },
     "execution_count": 2,
     "metadata": {},
     "output_type": "execute_result"
    }
   ],
   "source": [
    "%load_ext sql\n",
    "%sql sqlite:///manufacturing.db"
   ]
  },
  {
   "cell_type": "code",
   "execution_count": 42,
   "id": "ca794319-49d1-430a-a142-e715b109c6f7",
   "metadata": {},
   "outputs": [
    {
     "name": "stdout",
     "output_type": "stream",
     "text": [
      " * sqlite:///manufacturing.db\n",
      "Done.\n"
     ]
    },
    {
     "data": {
      "text/html": [
       "<table>\n",
       "    <thead>\n",
       "        <tr>\n",
       "            <th>Operator</th>\n",
       "            <th>Batches_completed</th>\n",
       "            <th>actual_time_taken_hours</th>\n",
       "            <th>batches_per_hour</th>\n",
       "        </tr>\n",
       "    </thead>\n",
       "    <tbody>\n",
       "        <tr>\n",
       "            <td>Dee</td>\n",
       "            <td>11</td>\n",
       "            <td>17.17</td>\n",
       "            <td>0.64</td>\n",
       "        </tr>\n",
       "        <tr>\n",
       "            <td>Dennis</td>\n",
       "            <td>8</td>\n",
       "            <td>13.67</td>\n",
       "            <td>0.59</td>\n",
       "        </tr>\n",
       "        <tr>\n",
       "            <td>Charlie</td>\n",
       "            <td>11</td>\n",
       "            <td>19.3</td>\n",
       "            <td>0.57</td>\n",
       "        </tr>\n",
       "        <tr>\n",
       "            <td>Mac</td>\n",
       "            <td>8</td>\n",
       "            <td>14.17</td>\n",
       "            <td>0.56</td>\n",
       "        </tr>\n",
       "    </tbody>\n",
       "</table>"
      ],
      "text/plain": [
       "[('Dee', 11, 17.17, 0.64),\n",
       " ('Dennis', 8, 13.67, 0.59),\n",
       " ('Charlie', 11, 19.3, 0.57),\n",
       " ('Mac', 8, 14.17, 0.56)]"
      ]
     },
     "execution_count": 42,
     "metadata": {},
     "output_type": "execute_result"
    }
   ],
   "source": [
    "%%sql\n",
    "SELECT\n",
    "    lp.Operator,\n",
    "\n",
    "    COUNT(*) AS Batches_completed,\n",
    "\n",
    "    ROUND(SUM(\n",
    "        (CASE \n",
    "            WHEN strftime('%s', lp.\"End Time\") < strftime('%s', lp.\"Start Time\")\n",
    "            THEN strftime('%s', lp.\"End Time\") + 24*60*60\n",
    "            ELSE strftime('%s', lp.\"End Time\")\n",
    "        END) - strftime('%s', lp.\"Start Time\")\n",
    "    ) / 3600.0, 2) AS actual_time_taken_hours,\n",
    "    \n",
    "    ROUND(\n",
    "        COUNT(*) / (\n",
    "            SUM(\n",
    "                (CASE \n",
    "                    WHEN strftime('%s', lp.\"End Time\") < strftime('%s', lp.\"Start Time\")\n",
    "                    THEN strftime('%s', lp.\"End Time\") + 24*60*60\n",
    "                    ELSE strftime('%s', lp.\"End Time\")\n",
    "                END) - strftime('%s', lp.\"Start Time\")\n",
    "            ) / 3600.0\n",
    "        ), \n",
    "    2) AS batches_per_hour\n",
    "                    \n",
    "FROM line_productivity lp\n",
    "GROUP BY lp.Operator\n",
    "order by batches_per_hour DESC ;\n"
   ]
  },
  {
   "cell_type": "markdown",
   "id": "ccabe5f8-ac2b-4600-8e99-7282b02e4538",
   "metadata": {},
   "source": [
    "we need to include the operator error and the error of rate\n"
   ]
  },
  {
   "cell_type": "code",
   "execution_count": 20,
   "id": "88a05729-c119-4154-a6b5-19bdf50210cb",
   "metadata": {},
   "outputs": [
    {
     "name": "stdout",
     "output_type": "stream",
     "text": [
      " * sqlite:///manufacturing.db\n",
      "Done.\n"
     ]
    },
    {
     "data": {
      "text/html": [
       "<table>\n",
       "    <thead>\n",
       "        <tr>\n",
       "            <th>Batch</th>\n",
       "            <th>Factor_1</th>\n",
       "            <th>Factor_2</th>\n",
       "            <th>Factor_3</th>\n",
       "            <th>Factor_4</th>\n",
       "            <th>Factor_5</th>\n",
       "            <th>Factor_6</th>\n",
       "            <th>Factor_7</th>\n",
       "            <th>Factor_8</th>\n",
       "            <th>Factor_9</th>\n",
       "            <th>Factor_10</th>\n",
       "            <th>Factor_11</th>\n",
       "            <th>Factor_12</th>\n",
       "        </tr>\n",
       "    </thead>\n",
       "    <tbody>\n",
       "        <tr>\n",
       "            <td>422111</td>\n",
       "            <td>None</td>\n",
       "            <td>60.0</td>\n",
       "            <td>None</td>\n",
       "            <td>None</td>\n",
       "            <td>None</td>\n",
       "            <td>None</td>\n",
       "            <td>15.0</td>\n",
       "            <td>None</td>\n",
       "            <td>None</td>\n",
       "            <td>None</td>\n",
       "            <td>None</td>\n",
       "            <td>None</td>\n",
       "        </tr>\n",
       "        <tr>\n",
       "            <td>422112</td>\n",
       "            <td>None</td>\n",
       "            <td>20.0</td>\n",
       "            <td>None</td>\n",
       "            <td>None</td>\n",
       "            <td>None</td>\n",
       "            <td>None</td>\n",
       "            <td>None</td>\n",
       "            <td>20.0</td>\n",
       "            <td>None</td>\n",
       "            <td>None</td>\n",
       "            <td>None</td>\n",
       "            <td>None</td>\n",
       "        </tr>\n",
       "        <tr>\n",
       "            <td>422113</td>\n",
       "            <td>None</td>\n",
       "            <td>50.0</td>\n",
       "            <td>None</td>\n",
       "            <td>None</td>\n",
       "            <td>None</td>\n",
       "            <td>None</td>\n",
       "            <td>None</td>\n",
       "            <td>None</td>\n",
       "            <td>None</td>\n",
       "            <td>None</td>\n",
       "            <td>None</td>\n",
       "            <td>None</td>\n",
       "        </tr>\n",
       "        <tr>\n",
       "            <td>422114</td>\n",
       "            <td>None</td>\n",
       "            <td>None</td>\n",
       "            <td>None</td>\n",
       "            <td>25.0</td>\n",
       "            <td>None</td>\n",
       "            <td>15.0</td>\n",
       "            <td>None</td>\n",
       "            <td>None</td>\n",
       "            <td>None</td>\n",
       "            <td>None</td>\n",
       "            <td>None</td>\n",
       "            <td>None</td>\n",
       "        </tr>\n",
       "        <tr>\n",
       "            <td>422115</td>\n",
       "            <td>None</td>\n",
       "            <td>None</td>\n",
       "            <td>None</td>\n",
       "            <td>None</td>\n",
       "            <td>None</td>\n",
       "            <td>None</td>\n",
       "            <td>None</td>\n",
       "            <td>None</td>\n",
       "            <td>None</td>\n",
       "            <td>24.0</td>\n",
       "            <td>None</td>\n",
       "            <td>None</td>\n",
       "        </tr>\n",
       "    </tbody>\n",
       "</table>"
      ],
      "text/plain": [
       "[('422111', None, 60.0, None, None, None, None, 15.0, None, None, None, None, None),\n",
       " ('422112', None, 20.0, None, None, None, None, None, 20.0, None, None, None, None),\n",
       " ('422113', None, 50.0, None, None, None, None, None, None, None, None, None, None),\n",
       " ('422114', None, None, None, 25.0, None, 15.0, None, None, None, None, None, None),\n",
       " ('422115', None, None, None, None, None, None, None, None, None, 24.0, None, None)]"
      ]
     },
     "execution_count": 20,
     "metadata": {},
     "output_type": "execute_result"
    }
   ],
   "source": [
    "%%sql\n",
    "select\n",
    "    *\n",
    "from Line_downtime\n",
    "limit 5;"
   ]
  },
  {
   "cell_type": "code",
   "execution_count": 23,
   "id": "32196b8f-7736-459a-b009-2d642caf9cb7",
   "metadata": {},
   "outputs": [
    {
     "name": "stdout",
     "output_type": "stream",
     "text": [
      " * sqlite:///manufacturing.db\n",
      "Done.\n"
     ]
    },
    {
     "data": {
      "text/html": [
       "<table>\n",
       "    <thead>\n",
       "        <tr>\n",
       "            <th>Batch</th>\n",
       "            <th>total_downtime</th>\n",
       "        </tr>\n",
       "    </thead>\n",
       "    <tbody>\n",
       "        <tr>\n",
       "            <td>422111</td>\n",
       "            <td>75.0</td>\n",
       "        </tr>\n",
       "        <tr>\n",
       "            <td>422112</td>\n",
       "            <td>40.0</td>\n",
       "        </tr>\n",
       "        <tr>\n",
       "            <td>422113</td>\n",
       "            <td>50.0</td>\n",
       "        </tr>\n",
       "        <tr>\n",
       "            <td>422114</td>\n",
       "            <td>40.0</td>\n",
       "        </tr>\n",
       "        <tr>\n",
       "            <td>422115</td>\n",
       "            <td>24.0</td>\n",
       "        </tr>\n",
       "    </tbody>\n",
       "</table>"
      ],
      "text/plain": [
       "[('422111', 75.0),\n",
       " ('422112', 40.0),\n",
       " ('422113', 50.0),\n",
       " ('422114', 40.0),\n",
       " ('422115', 24.0)]"
      ]
     },
     "execution_count": 23,
     "metadata": {},
     "output_type": "execute_result"
    }
   ],
   "source": [
    "%%sql\n",
    "SELECT\n",
    "    Batch,\n",
    "    (\n",
    "        IFNULL(Factor_1, 0) +\n",
    "        IFNULL(Factor_2, 0) +\n",
    "        IFNULL(Factor_3, 0) +\n",
    "        IFNULL(Factor_4, 0) +\n",
    "        IFNULL(Factor_5, 0) +\n",
    "        IFNULL(Factor_6, 0) +\n",
    "        IFNULL(Factor_7, 0) +\n",
    "        IFNULL(Factor_8, 0) +\n",
    "        IFNULL(Factor_9, 0) +\n",
    "        IFNULL(Factor_10, 0) +\n",
    "        IFNULL(Factor_11, 0) +\n",
    "        IFNULL(Factor_12, 0)\n",
    "    ) AS total_downtime\n",
    "FROM Line_downtime\n",
    "LIMIT 5;\n"
   ]
  },
  {
   "cell_type": "code",
   "execution_count": 49,
   "id": "36803159-06f8-4cb3-aa53-f88632849bac",
   "metadata": {
    "scrolled": true
   },
   "outputs": [
    {
     "name": "stdout",
     "output_type": "stream",
     "text": [
      " * sqlite:///manufacturing.db\n",
      "Done.\n"
     ]
    },
    {
     "data": {
      "text/html": [
       "<table>\n",
       "    <thead>\n",
       "        <tr>\n",
       "            <th>Operator</th>\n",
       "            <th>Batches_completed</th>\n",
       "            <th>actual_time_taken_hours</th>\n",
       "            <th>batches_per_hour</th>\n",
       "            <th>total_downtime_hours</th>\n",
       "        </tr>\n",
       "    </thead>\n",
       "    <tbody>\n",
       "        <tr>\n",
       "            <td>Charlie</td>\n",
       "            <td>11</td>\n",
       "            <td>19.3</td>\n",
       "            <td>0.57</td>\n",
       "            <td>6.4</td>\n",
       "        </tr>\n",
       "        <tr>\n",
       "            <td>Dee</td>\n",
       "            <td>11</td>\n",
       "            <td>17.17</td>\n",
       "            <td>0.64</td>\n",
       "            <td>6.17</td>\n",
       "        </tr>\n",
       "        <tr>\n",
       "            <td>Dennis</td>\n",
       "            <td>8</td>\n",
       "            <td>13.67</td>\n",
       "            <td>0.59</td>\n",
       "            <td>5.03</td>\n",
       "        </tr>\n",
       "        <tr>\n",
       "            <td>Mac</td>\n",
       "            <td>8</td>\n",
       "            <td>14.17</td>\n",
       "            <td>0.56</td>\n",
       "            <td>5.53</td>\n",
       "        </tr>\n",
       "    </tbody>\n",
       "</table>"
      ],
      "text/plain": [
       "[('Charlie', 11, 19.3, 0.57, 6.4),\n",
       " ('Dee', 11, 17.17, 0.64, 6.17),\n",
       " ('Dennis', 8, 13.67, 0.59, 5.03),\n",
       " ('Mac', 8, 14.17, 0.56, 5.53)]"
      ]
     },
     "execution_count": 49,
     "metadata": {},
     "output_type": "execute_result"
    }
   ],
   "source": [
    "%%sql\n",
    "SELECT\n",
    "    lp.Operator,\n",
    "\n",
    "    COUNT(*) AS Batches_completed,\n",
    "\n",
    "    ROUND(SUM(\n",
    "        (CASE \n",
    "            WHEN strftime('%s', lp.\"End Time\") < strftime('%s', lp.\"Start Time\")\n",
    "            THEN strftime('%s', lp.\"End Time\") + 24*60*60\n",
    "            ELSE strftime('%s', lp.\"End Time\")\n",
    "        END) \n",
    "        - strftime('%s', lp.\"Start Time\")\n",
    "    ) /3600.0, 2) AS actual_time_taken_hours,\n",
    "                          \n",
    "   ROUND(\n",
    "        COUNT(*) / (\n",
    "            SUM(\n",
    "                (CASE \n",
    "                    WHEN strftime('%s', lp.\"End Time\") < strftime('%s', lp.\"Start Time\")\n",
    "                    THEN strftime('%s', lp.\"End Time\") + 24*60*60\n",
    "                    ELSE strftime('%s', lp.\"End Time\")\n",
    "                END) - strftime('%s', lp.\"Start Time\")\n",
    "            ) / 3600.0\n",
    "        ), \n",
    "    2) AS batches_per_hour,\n",
    "             \n",
    "   round(SUM(\n",
    "        IFNULL(ld.Factor_1, 0) +\n",
    "        IFNULL(ld.Factor_2, 0) +\n",
    "        IFNULL(ld.Factor_3, 0) +\n",
    "        IFNULL(ld.Factor_4, 0) +\n",
    "        IFNULL(ld.Factor_5, 0) +\n",
    "        IFNULL(ld.Factor_6, 0) +\n",
    "        IFNULL(ld.Factor_7, 0) +\n",
    "        IFNULL(ld.Factor_8, 0) +\n",
    "        IFNULL(ld.Factor_9, 0) +\n",
    "        IFNULL(ld.Factor_10, 0) +\n",
    "        IFNULL(ld.Factor_11, 0) +\n",
    "        IFNULL(ld.Factor_12, 0)\n",
    "    )/60,2) AS total_downtime_hours\n",
    "        \n",
    "FROM line_productivity lp\n",
    "LEFT JOIN Line_downtime ld\n",
    "    ON lp.Batch = ld.Batch\n",
    "GROUP BY lp.Operator\n",
    "ORDER BY lp.Operator;\n"
   ]
  },
  {
   "cell_type": "code",
   "execution_count": 54,
   "id": "68583945-4ecc-432e-9c59-4fa775bcaf75",
   "metadata": {},
   "outputs": [
    {
     "name": "stdout",
     "output_type": "stream",
     "text": [
      " * sqlite:///manufacturing.db\n",
      "Done.\n"
     ]
    },
    {
     "data": {
      "text/html": [
       "<table>\n",
       "    <thead>\n",
       "        <tr>\n",
       "            <th>Operator</th>\n",
       "            <th>Batches_completed</th>\n",
       "            <th>actual_time_taken_hours</th>\n",
       "            <th>batches_per_hour</th>\n",
       "            <th>total_downtime_hours</th>\n",
       "            <th>operator_downtime_hours</th>\n",
       "        </tr>\n",
       "    </thead>\n",
       "    <tbody>\n",
       "        <tr>\n",
       "            <td>Charlie</td>\n",
       "            <td>11</td>\n",
       "            <td>19.3</td>\n",
       "            <td>0.57</td>\n",
       "            <td>6.4</td>\n",
       "            <td>3.8</td>\n",
       "        </tr>\n",
       "        <tr>\n",
       "            <td>Dee</td>\n",
       "            <td>11</td>\n",
       "            <td>17.17</td>\n",
       "            <td>0.64</td>\n",
       "            <td>6.17</td>\n",
       "            <td>3.2</td>\n",
       "        </tr>\n",
       "        <tr>\n",
       "            <td>Dennis</td>\n",
       "            <td>8</td>\n",
       "            <td>13.67</td>\n",
       "            <td>0.59</td>\n",
       "            <td>5.03</td>\n",
       "            <td>2.73</td>\n",
       "        </tr>\n",
       "        <tr>\n",
       "            <td>Mac</td>\n",
       "            <td>8</td>\n",
       "            <td>14.17</td>\n",
       "            <td>0.56</td>\n",
       "            <td>5.53</td>\n",
       "            <td>3.2</td>\n",
       "        </tr>\n",
       "    </tbody>\n",
       "</table>"
      ],
      "text/plain": [
       "[('Charlie', 11, 19.3, 0.57, 6.4, 3.8),\n",
       " ('Dee', 11, 17.17, 0.64, 6.17, 3.2),\n",
       " ('Dennis', 8, 13.67, 0.59, 5.03, 2.73),\n",
       " ('Mac', 8, 14.17, 0.56, 5.53, 3.2)]"
      ]
     },
     "execution_count": 54,
     "metadata": {},
     "output_type": "execute_result"
    }
   ],
   "source": [
    "%%sql\n",
    "SELECT\n",
    "    lp.Operator,\n",
    "\n",
    "    COUNT(*) AS Batches_completed,\n",
    "\n",
    "    ROUND(SUM(\n",
    "        (CASE \n",
    "            WHEN strftime('%s', lp.\"End Time\") < strftime('%s', lp.\"Start Time\")\n",
    "            THEN strftime('%s', lp.\"End Time\") + 24*60*60\n",
    "            ELSE strftime('%s', lp.\"End Time\")\n",
    "        END) \n",
    "        - strftime('%s', lp.\"Start Time\")\n",
    "    ) /3600.0, 2) AS actual_time_taken_hours,\n",
    "                          \n",
    "   ROUND(\n",
    "        COUNT(*) / (\n",
    "            SUM(\n",
    "                (CASE \n",
    "                    WHEN strftime('%s', lp.\"End Time\") < strftime('%s', lp.\"Start Time\")\n",
    "                    THEN strftime('%s', lp.\"End Time\") + 24*60*60\n",
    "                    ELSE strftime('%s', lp.\"End Time\")\n",
    "                END) - strftime('%s', lp.\"Start Time\")\n",
    "            ) / 3600.0\n",
    "        ), \n",
    "    2) AS batches_per_hour,\n",
    "             \n",
    "   round(SUM(\n",
    "        IFNULL(ld.Factor_1, 0) +\n",
    "        IFNULL(ld.Factor_2, 0) +\n",
    "        IFNULL(ld.Factor_3, 0) +\n",
    "        IFNULL(ld.Factor_4, 0) +\n",
    "        IFNULL(ld.Factor_5, 0) +\n",
    "        IFNULL(ld.Factor_6, 0) +\n",
    "        IFNULL(ld.Factor_7, 0) +\n",
    "        IFNULL(ld.Factor_8, 0) +\n",
    "        IFNULL(ld.Factor_9, 0) +\n",
    "        IFNULL(ld.Factor_10, 0) +\n",
    "        IFNULL(ld.Factor_11, 0) +\n",
    "        IFNULL(ld.Factor_12, 0)\n",
    "    )/60,2) AS total_downtime_hours,\n",
    "\n",
    "    ROUND(\n",
    "    SUM(\n",
    "        IFNULL(ld.Factor_2, 0) +\n",
    "        IFNULL(ld.Factor_5, 0) +\n",
    "        IFNULL(ld.Factor_6, 0) +\n",
    "        IFNULL(ld.Factor_8, 0) +\n",
    "        IFNULL(ld.Factor_10, 0) +\n",
    "        IFNULL(ld.Factor_11, 0)\n",
    "    ) / 60, 2\n",
    ") AS operator_downtime_hours\n",
    "\n",
    "FROM Line_downtime ld \n",
    "LEFT JOIN line_productivity lp\n",
    "    ON lp.Batch = ld.Batch\n",
    "GROUP BY lp.Operator\n",
    "ORDER BY lp.Operator;"
   ]
  },
  {
   "cell_type": "markdown",
   "id": "5d74c53b-e516-44ba-b907-3ece3f64da5f",
   "metadata": {},
   "source": [
    "now we need no-operator_downtime hours and % of operator hours .if we use the previos query it will be complex will save this as CTE"
   ]
  },
  {
   "cell_type": "code",
   "execution_count": 62,
   "id": "68cd6d21-9351-4daa-abc4-82fbf9f85c99",
   "metadata": {},
   "outputs": [
    {
     "name": "stdout",
     "output_type": "stream",
     "text": [
      " * sqlite:///manufacturing.db\n",
      "Done.\n"
     ]
    },
    {
     "data": {
      "text/html": [
       "<table>\n",
       "    <thead>\n",
       "        <tr>\n",
       "            <th>Operator</th>\n",
       "            <th>Batches_completed</th>\n",
       "            <th>actual_time_taken_hours</th>\n",
       "            <th>batch_speed</th>\n",
       "            <th>total_downtime_hours</th>\n",
       "            <th>operator_downtime_hours</th>\n",
       "            <th>operator_error</th>\n",
       "        </tr>\n",
       "    </thead>\n",
       "    <tbody>\n",
       "        <tr>\n",
       "            <td>Charlie</td>\n",
       "            <td>11</td>\n",
       "            <td>19.3</td>\n",
       "            <td>0.57</td>\n",
       "            <td>6.4</td>\n",
       "            <td>3.8</td>\n",
       "            <td>19.69</td>\n",
       "        </tr>\n",
       "        <tr>\n",
       "            <td>Dee</td>\n",
       "            <td>11</td>\n",
       "            <td>17.17</td>\n",
       "            <td>0.64</td>\n",
       "            <td>6.17</td>\n",
       "            <td>3.2</td>\n",
       "            <td>18.64</td>\n",
       "        </tr>\n",
       "        <tr>\n",
       "            <td>Dennis</td>\n",
       "            <td>8</td>\n",
       "            <td>13.67</td>\n",
       "            <td>0.59</td>\n",
       "            <td>5.03</td>\n",
       "            <td>2.73</td>\n",
       "            <td>19.97</td>\n",
       "        </tr>\n",
       "        <tr>\n",
       "            <td>Mac</td>\n",
       "            <td>8</td>\n",
       "            <td>14.17</td>\n",
       "            <td>0.56</td>\n",
       "            <td>5.53</td>\n",
       "            <td>3.2</td>\n",
       "            <td>22.58</td>\n",
       "        </tr>\n",
       "    </tbody>\n",
       "</table>"
      ],
      "text/plain": [
       "[('Charlie', 11, 19.3, 0.57, 6.4, 3.8, 19.69),\n",
       " ('Dee', 11, 17.17, 0.64, 6.17, 3.2, 18.64),\n",
       " ('Dennis', 8, 13.67, 0.59, 5.03, 2.73, 19.97),\n",
       " ('Mac', 8, 14.17, 0.56, 5.53, 3.2, 22.58)]"
      ]
     },
     "execution_count": 62,
     "metadata": {},
     "output_type": "execute_result"
    }
   ],
   "source": [
    "%%sql\n",
    "WITH operator_performance_analysis AS (\n",
    "    SELECT\n",
    "        lp.Operator,\n",
    "        COUNT(*) AS Batches_completed,\n",
    "        ROUND(SUM(\n",
    "            (CASE \n",
    "                WHEN strftime('%s', lp.\"End Time\") < strftime('%s', lp.\"Start Time\")\n",
    "                THEN strftime('%s', lp.\"End Time\") + 24*60*60\n",
    "                ELSE strftime('%s', lp.\"End Time\")\n",
    "            END) - strftime('%s', lp.\"Start Time\")\n",
    "        ) / 3600.0, 2) AS actual_time_taken_hours,\n",
    "        ROUND(\n",
    "            COUNT(*) / (\n",
    "                SUM(\n",
    "                    (CASE \n",
    "                        WHEN strftime('%s', lp.\"End Time\") < strftime('%s', lp.\"Start Time\")\n",
    "                        THEN strftime('%s', lp.\"End Time\") + 24*60*60\n",
    "                        ELSE strftime('%s', lp.\"End Time\")\n",
    "                    END) - strftime('%s', lp.\"Start Time\")\n",
    "                ) / 3600.0\n",
    "            ), \n",
    "        2) AS batch_speed,\n",
    "        ROUND(SUM(\n",
    "            IFNULL(ld.Factor_1, 0) +\n",
    "            IFNULL(ld.Factor_2, 0) +\n",
    "            IFNULL(ld.Factor_3, 0) +\n",
    "            IFNULL(ld.Factor_4, 0) +\n",
    "            IFNULL(ld.Factor_5, 0) +\n",
    "            IFNULL(ld.Factor_6, 0) +\n",
    "            IFNULL(ld.Factor_7, 0) +\n",
    "            IFNULL(ld.Factor_8, 0) +\n",
    "            IFNULL(ld.Factor_9, 0) +\n",
    "            IFNULL(ld.Factor_10, 0) +\n",
    "            IFNULL(ld.Factor_11, 0) +\n",
    "            IFNULL(ld.Factor_12, 0)\n",
    "        ) / 60, 2) AS total_downtime_hours,\n",
    "        ROUND(\n",
    "            SUM(\n",
    "                IFNULL(ld.Factor_2, 0) +\n",
    "                IFNULL(ld.Factor_5, 0) +\n",
    "                IFNULL(ld.Factor_6, 0) +\n",
    "                IFNULL(ld.Factor_8, 0) +\n",
    "                IFNULL(ld.Factor_10, 0) +\n",
    "                IFNULL(ld.Factor_11, 0)\n",
    "            ) / 60, 2\n",
    "        ) AS operator_downtime_hours\n",
    "    FROM Line_downtime ld \n",
    "    LEFT JOIN line_productivity lp\n",
    "        ON lp.Batch = ld.Batch\n",
    "    GROUP BY lp.Operator\n",
    "    ORDER BY lp.Operator\n",
    ")\n",
    "SELECT\n",
    "    Operator,\n",
    "    Batches_completed,\n",
    "    actual_time_taken_hours,\n",
    "    batch_speed,\n",
    "    total_downtime_hours,\n",
    "    operator_downtime_hours,\n",
    "    round((operator_downtime_hours / actual_time_taken_hours) * 100,2) AS operator_error\n",
    "FROM operator_performance_analysis;\n"
   ]
  },
  {
   "cell_type": "markdown",
   "id": "d556173f-8147-4b87-aee3-d5f625fa5215",
   "metadata": {},
   "source": [
    "if we regard speed more than accuracy ,the ranking will be:"
   ]
  },
  {
   "cell_type": "markdown",
   "id": "955b11fe-bec8-4652-b5b3-860a486b7cc2",
   "metadata": {},
   "source": [
    "| RANK     | OPERATOR | SPEED     | OPERATOR ERROR | \n",
    "|----------|----------|-----------|----------------|\n",
    "| 1        | Dee      | 0.64      | 18.64          |\n",
    "| 2        | Dennis   | 0.59      | 19.97          |\n",
    "| 3        | Charlie  | 0.57      | 19.69          |\n",
    "| 4        | Mac      | 0.56      | 22.58          |"
   ]
  },
  {
   "cell_type": "markdown",
   "id": "ee570303-2f6f-4825-8b4c-8a923c5ef9a4",
   "metadata": {},
   "source": [
    "However if we regard accuracy more than speed then the ranking will be:"
   ]
  },
  {
   "cell_type": "markdown",
   "id": "303b11a9-2110-43e0-81c7-41ab3c4021b4",
   "metadata": {},
   "source": [
    "| RANK     | OPERATOR | SPEED     | OPERATOR ERROR | \n",
    "|----------|----------|-----------|----------------|\n",
    "| 1        | Dee      | 0.64      | 18.64          |\n",
    "| 2        | Charlie  | 0.57      | 19.69          |\n",
    "| 3        | Dennis   | 0.59      | 19.96          |\n",
    "| 4        | Mac      | 0.56      | 22.58          |"
   ]
  }
 ],
 "metadata": {
  "kernelspec": {
   "display_name": "Python 3 (ipykernel)",
   "language": "python",
   "name": "python3"
  },
  "language_info": {
   "codemirror_mode": {
    "name": "ipython",
    "version": 3
   },
   "file_extension": ".py",
   "mimetype": "text/x-python",
   "name": "python",
   "nbconvert_exporter": "python",
   "pygments_lexer": "ipython3",
   "version": "3.13.5"
  }
 },
 "nbformat": 4,
 "nbformat_minor": 5
}
